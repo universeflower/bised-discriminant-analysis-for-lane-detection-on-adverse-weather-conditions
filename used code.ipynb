{
  "cells": [
    {
      "cell_type": "code",
      "execution_count": 2,
      "metadata": {
        "colab": {
          "base_uri": "https://localhost:8080/"
        },
        "id": "tasN9HtsBrKq",
        "outputId": "1137d77a-f9b1-4112-a76a-b694f51c392d"
      },
      "outputs": [
        {
          "output_type": "stream",
          "name": "stdout",
          "text": [
            "\u001b[?25l   \u001b[90m━━━━━━━━━━━━━━━━━━━━━━━━━━━━━━━━━━━━━━━━\u001b[0m \u001b[32m0.0/80.9 kB\u001b[0m \u001b[31m?\u001b[0m eta \u001b[36m-:--:--\u001b[0m\r\u001b[2K   \u001b[90m━━━━━━━━━━━━━━━━━━━━━━━━━━━━━━━━━━━━━━━━\u001b[0m \u001b[32m80.9/80.9 kB\u001b[0m \u001b[31m4.7 MB/s\u001b[0m eta \u001b[36m0:00:00\u001b[0m\n",
            "\u001b[?25h\u001b[?25l   \u001b[90m━━━━━━━━━━━━━━━━━━━━━━━━━━━━━━━━━━━━━━━━\u001b[0m \u001b[32m0.0/66.8 kB\u001b[0m \u001b[31m?\u001b[0m eta \u001b[36m-:--:--\u001b[0m\r\u001b[2K   \u001b[90m━━━━━━━━━━━━━━━━━━━━━━━━━━━━━━━━━━━━━━━━\u001b[0m \u001b[32m66.8/66.8 kB\u001b[0m \u001b[31m5.0 MB/s\u001b[0m eta \u001b[36m0:00:00\u001b[0m\n",
            "\u001b[?25hCloning into 'yolov5'...\n",
            "remote: Enumerating objects: 17067, done.\u001b[K\n",
            "remote: Counting objects: 100% (45/45), done.\u001b[K\n",
            "remote: Compressing objects: 100% (33/33), done.\u001b[K\n",
            "remote: Total 17067 (delta 24), reused 27 (delta 12), pack-reused 17022 (from 1)\u001b[K\n",
            "Receiving objects: 100% (17067/17067), 15.68 MiB | 17.88 MiB/s, done.\n",
            "Resolving deltas: 100% (11714/11714), done.\n",
            "/content/yolov5\n",
            "\u001b[2K   \u001b[90m━━━━━━━━━━━━━━━━━━━━━━━━━━━━━━━━━━━━━━━━\u001b[0m \u001b[32m898.4/898.4 kB\u001b[0m \u001b[31m20.3 MB/s\u001b[0m eta \u001b[36m0:00:00\u001b[0m\n",
            "\u001b[?25h"
          ]
        }
      ],
      "source": [
        "!pip install -q roboflow\n",
        "!git clone https://github.com/ultralytics/yolov5\n",
        "%cd yolov5\n",
        "%pip install -qr requirements.txt\n",
        "%pip install -q roboflow"
      ]
    },
    {
      "cell_type": "code",
      "execution_count": 1,
      "metadata": {
        "colab": {
          "base_uri": "https://localhost:8080/"
        },
        "id": "1Qxl7edCBwcC",
        "outputId": "7ae83e67-a6d8-413e-ff72-b081f2b0d914"
      },
      "outputs": [
        {
          "output_type": "stream",
          "name": "stdout",
          "text": [
            "Mounted at /content/drive\n"
          ]
        }
      ],
      "source": [
        "from google.colab import drive\n",
        "drive.mount('/content/drive')"
      ]
    },
    {
      "cell_type": "code",
      "execution_count": 3,
      "metadata": {
        "id": "enR0axfgB1qK",
        "colab": {
          "base_uri": "https://localhost:8080/"
        },
        "outputId": "10df026c-0f3f-4514-c6cc-78424eb1dd59"
      },
      "outputs": [
        {
          "output_type": "stream",
          "name": "stdout",
          "text": [
            "SET UP COMPLETE. USING TORCH 2.5.1+cu121 (Tesla T4)\n"
          ]
        }
      ],
      "source": [
        "import os\n",
        "import glob\n",
        "from getpass import getpass\n",
        "from roboflow import Roboflow\n",
        "import torch\n",
        "import yaml\n",
        "from IPython.display import Image,display,clear_output\n",
        "print(f\"SET UP COMPLETE. USING TORCH {torch.__version__} ({torch.cuda.get_device_properties(0).name})\")"
      ]
    },
    {
      "cell_type": "code",
      "execution_count": null,
      "metadata": {
        "colab": {
          "base_uri": "https://localhost:8080/",
          "height": 191
        },
        "id": "LLyJX1bwB4q5",
        "outputId": "85393fda-376b-4654-d999-d6174e6747cb"
      },
      "outputs": [
        {
          "output_type": "display_data",
          "data": {
            "text/plain": [
              "{'train': '/content/drive/MyDrive/lane/train/images',\n",
              " 'val': '/content/drive/MyDrive/lane/valid/images',\n",
              " 'test': '/content/drive/MyDrive/lane/test/images',\n",
              " 'nc': 1,\n",
              " 'names': ['lane'],\n",
              " 'roboflow': {'workspace': 'lanes-qp7qp',\n",
              "  'project': 'culanes-m0cxq',\n",
              "  'version': 1,\n",
              "  'license': 'CC BY 4.0',\n",
              "  'url': 'https://universe.roboflow.com/lanes-qp7qp/culanes-m0cxq/dataset/1'}}"
            ]
          },
          "metadata": {}
        }
      ],
      "source": [
        "data_dir = '/content/drive/MyDrive/lane'\n",
        "data_yaml='/content/drive/MyDrive/lane/data.yaml'\n",
        "assert(os.path.exists(data_dir)) and (os.path.exists(data_yaml))\n",
        "\n",
        "with open(data_yaml) as f:\n",
        "  film=yaml.load(f,Loader=yaml.FullLoader)\n",
        "  display(film)\n",
        "\n",
        "film['train' ] = os.path.join(data_dir,'/content/drive/MyDrive/lane/train/images')\n",
        "film['val']= os.path.join(data_dir,'/content/drive/MyDrive/lane/test/images')\n"
      ]
    },
    {
      "cell_type": "code",
      "execution_count": null,
      "metadata": {
        "colab": {
          "base_uri": "https://localhost:8080/"
        },
        "id": "CM72euJkB6iZ",
        "outputId": "40b14678-1d1b-48ed-e924-c47cd4dd9219"
      },
      "outputs": [
        {
          "output_type": "stream",
          "name": "stdout",
          "text": [
            "Traceback (most recent call last):\n",
            "  File \"/content/yolov5/segment/train.py\", line 30, in <module>\n",
            "    import torch\n",
            "  File \"/usr/local/lib/python3.10/dist-packages/torch/__init__.py\", line 2130, in <module>\n",
            "    from torch import quantization as quantization  # usort: skip\n",
            "  File \"/usr/local/lib/python3.10/dist-packages/torch/quantization/__init__.py\", line 2, in <module>\n",
            "    from .fake_quantize import *  # noqa: F403\n",
            "  File \"/usr/local/lib/python3.10/dist-packages/torch/quantization/fake_quantize.py\", line 10, in <module>\n",
            "    from torch.ao.quantization.fake_quantize import (\n",
            "  File \"/usr/local/lib/python3.10/dist-packages/torch/ao/quantization/__init__.py\", line 8, in <module>\n",
            "    from .fake_quantize import *  # noqa: F403\n",
            "  File \"/usr/local/lib/python3.10/dist-packages/torch/ao/quantization/fake_quantize.py\", line 10, in <module>\n",
            "    from torch.ao.quantization.observer import (\n",
            "  File \"/usr/local/lib/python3.10/dist-packages/torch/ao/quantization/observer.py\", line 17, in <module>\n",
            "    from torch.ao.quantization.utils import (\n",
            "  File \"/usr/local/lib/python3.10/dist-packages/torch/ao/quantization/utils.py\", line 13, in <module>\n",
            "    from torch.fx import Node\n",
            "  File \"/usr/local/lib/python3.10/dist-packages/torch/fx/__init__.py\", line 83, in <module>\n",
            "    from .graph_module import GraphModule\n",
            "  File \"/usr/local/lib/python3.10/dist-packages/torch/fx/graph_module.py\", line 20, in <module>\n",
            "    from .graph import _custom_builtins, _is_from_torch, _PyTreeCodeGen, Graph, PythonCode\n",
            "  File \"/usr/local/lib/python3.10/dist-packages/torch/fx/graph.py\", line 3, in <module>\n",
            "    from .node import Node, Argument, Target, map_arg, _type_repr, _get_qualified_name\n",
            "  File \"/usr/local/lib/python3.10/dist-packages/torch/fx/node.py\", line 49, in <module>\n",
            "    _ops.aten._assert_async.msg,\n",
            "  File \"/usr/local/lib/python3.10/dist-packages/torch/_ops.py\", line 1223, in __getattr__\n",
            "    op, overload_names = _get_packet(qualified_op_name, module_name)\n",
            "  File \"/usr/local/lib/python3.10/dist-packages/torch/_ops.py\", line 1248, in _get_packet\n",
            "    op, overload_names = torch._C._jit_get_operation(qualname)\n",
            "KeyboardInterrupt\n",
            "^C\n"
          ]
        }
      ],
      "source": [
        "!python segment/train.py --img 640 --batch 32 --epochs 40 --data {data_yaml} --weights yolov5s-seg.pt --cache\n"
      ]
    },
    {
      "cell_type": "code",
      "execution_count": null,
      "metadata": {
        "colab": {
          "base_uri": "https://localhost:8080/",
          "height": 228
        },
        "id": "uSakkYEhB7kB",
        "outputId": "0b6e504b-ede5-4735-ef20-3118219e0c39"
      },
      "outputs": [
        {
          "output_type": "error",
          "ename": "FileNotFoundError",
          "evalue": "[Errno 2] No such file or directory: '/content/yolov5/runs/train-seg'",
          "traceback": [
            "\u001b[0;31m---------------------------------------------------------------------------\u001b[0m",
            "\u001b[0;31mFileNotFoundError\u001b[0m                         Traceback (most recent call last)",
            "\u001b[0;32m<ipython-input-9-b3fe8500969a>\u001b[0m in \u001b[0;36m<cell line: 2>\u001b[0;34m()\u001b[0m\n\u001b[1;32m      1\u001b[0m \u001b[0mtrain_path\u001b[0m \u001b[0;34m=\u001b[0m \u001b[0;34m'/content/yolov5/runs/train-seg'\u001b[0m\u001b[0;34m\u001b[0m\u001b[0;34m\u001b[0m\u001b[0m\n\u001b[0;32m----> 2\u001b[0;31m \u001b[0mtrain_folders\u001b[0m\u001b[0;34m=\u001b[0m\u001b[0;34m[\u001b[0m\u001b[0mfolder\u001b[0m \u001b[0;32mfor\u001b[0m \u001b[0mfolder\u001b[0m \u001b[0;32min\u001b[0m \u001b[0mos\u001b[0m\u001b[0;34m.\u001b[0m\u001b[0mlistdir\u001b[0m\u001b[0;34m(\u001b[0m\u001b[0mtrain_path\u001b[0m\u001b[0;34m)\u001b[0m \u001b[0;32mif\u001b[0m \u001b[0mos\u001b[0m\u001b[0;34m.\u001b[0m\u001b[0mpath\u001b[0m\u001b[0;34m.\u001b[0m\u001b[0misdir\u001b[0m\u001b[0;34m(\u001b[0m\u001b[0mos\u001b[0m\u001b[0;34m.\u001b[0m\u001b[0mpath\u001b[0m\u001b[0;34m.\u001b[0m\u001b[0mjoin\u001b[0m\u001b[0;34m(\u001b[0m\u001b[0mtrain_path\u001b[0m\u001b[0;34m,\u001b[0m\u001b[0mfolder\u001b[0m\u001b[0;34m)\u001b[0m\u001b[0;34m)\u001b[0m\u001b[0;34m]\u001b[0m\u001b[0;34m\u001b[0m\u001b[0;34m\u001b[0m\u001b[0m\n\u001b[0m\u001b[1;32m      3\u001b[0m \u001b[0mprint\u001b[0m\u001b[0;34m(\u001b[0m\u001b[0;34mf'triining exp 폴더 : {train_folders}'\u001b[0m\u001b[0;34m)\u001b[0m\u001b[0;34m\u001b[0m\u001b[0;34m\u001b[0m\u001b[0m\n\u001b[1;32m      4\u001b[0m \u001b[0;34m\u001b[0m\u001b[0m\n\u001b[1;32m      5\u001b[0m \u001b[0mtest_data_dir\u001b[0m\u001b[0;34m=\u001b[0m\u001b[0mfilm\u001b[0m\u001b[0;34m[\u001b[0m\u001b[0;34m'val'\u001b[0m\u001b[0;34m]\u001b[0m\u001b[0;34m\u001b[0m\u001b[0;34m\u001b[0m\u001b[0m\n",
            "\u001b[0;31mFileNotFoundError\u001b[0m: [Errno 2] No such file or directory: '/content/yolov5/runs/train-seg'"
          ]
        }
      ],
      "source": [
        "# train_path = '/content/yolov5/runs/train-seg'\n",
        "# train_folders=[folder for folder in os.listdir(train_path) if os.path.isdir(os.path.join(train_path,folder))]\n",
        "# print(f'triining exp 폴더 : {train_folders}')\n",
        "\n",
        "# test_data_dir=film['val']\n",
        "# training_folder='exp'\n"
      ]
    },
    {
      "cell_type": "code",
      "execution_count": null,
      "metadata": {
        "colab": {
          "base_uri": "https://localhost:8080/"
        },
        "id": "sISWkQlAB9Kd",
        "outputId": "6e34d9c7-ec68-41d2-c008-f47bc59b0830"
      },
      "outputs": [
        {
          "output_type": "stream",
          "name": "stdout",
          "text": [
            "Creating new Ultralytics Settings v0.0.6 file ✅ \n",
            "View Ultralytics Settings with 'yolo settings' or at '/root/.config/Ultralytics/settings.json'\n",
            "Update Settings with 'yolo settings key=value', i.e. 'yolo settings runs_dir=path/to/dir'. For help see https://docs.ultralytics.com/quickstart/#ultralytics-settings.\n",
            "\u001b[34m\u001b[1msegment/val: \u001b[0mdata=/content/drive/MyDrive/lane/data.yaml, weights=['runs/train-seg/{training_folder}/weights/best.pt'], batch_size=32, imgsz=640, conf_thres=0.001, iou_thres=0.6, max_det=300, task=val, device=, workers=8, single_cls=False, augment=False, verbose=False, save_txt=False, save_hybrid=False, save_conf=False, save_json=False, project=runs/val-seg, name=exp, exist_ok=False, half=False, dnn=False\n",
            "YOLOv5 🚀 v7.0-378-g2f74455a Python-3.10.12 torch-2.5.0+cu121 CUDA:0 (Tesla T4, 15102MiB)\n",
            "\n",
            "Traceback (most recent call last):\n",
            "  File \"/content/yolov5/segment/val.py\", line 522, in <module>\n",
            "    main(opt)\n",
            "  File \"/content/yolov5/segment/val.py\", line 493, in main\n",
            "    run(**vars(opt))\n",
            "  File \"/usr/local/lib/python3.10/dist-packages/torch/utils/_contextlib.py\", line 116, in decorate_context\n",
            "    return func(*args, **kwargs)\n",
            "  File \"/content/yolov5/segment/val.py\", line 211, in run\n",
            "    model = DetectMultiBackend(weights, device=device, dnn=dnn, data=data, fp16=half)\n",
            "  File \"/content/yolov5/models/common.py\", line 489, in __init__\n",
            "    model = attempt_load(weights if isinstance(weights, list) else w, device=device, inplace=True, fuse=fuse)\n",
            "  File \"/content/yolov5/models/experimental.py\", line 98, in attempt_load\n",
            "    ckpt = torch.load(attempt_download(w), map_location=\"cpu\")  # load\n",
            "  File \"/usr/local/lib/python3.10/dist-packages/ultralytics/utils/patches.py\", line 86, in torch_load\n",
            "    return _torch_load(*args, **kwargs)\n",
            "  File \"/usr/local/lib/python3.10/dist-packages/torch/serialization.py\", line 1319, in load\n",
            "    with _open_file_like(f, \"rb\") as opened_file:\n",
            "  File \"/usr/local/lib/python3.10/dist-packages/torch/serialization.py\", line 659, in _open_file_like\n",
            "    return _open_file(name_or_buffer, mode)\n",
            "  File \"/usr/local/lib/python3.10/dist-packages/torch/serialization.py\", line 640, in __init__\n",
            "    super().__init__(open(name, mode))\n",
            "FileNotFoundError: [Errno 2] No such file or directory: 'runs/train-seg/{training_folder}/weights/best.pt'\n"
          ]
        }
      ],
      "source": [
        "!python segment/val.py --weights runs/train-seg/{training_folder}/weights/best.pt --data '/content/drive/MyDrive/lane/data.yaml' --img 640\n"
      ]
    },
    {
      "cell_type": "code",
      "execution_count": 4,
      "metadata": {
        "id": "NBLbXUdMCAnd",
        "colab": {
          "base_uri": "https://localhost:8080/"
        },
        "outputId": "3695b3c1-a50f-43f9-9c7a-8e363178e524"
      },
      "outputs": [
        {
          "output_type": "stream",
          "name": "stdout",
          "text": [
            "Processed and saved: /content/drive/MyDrive/train/train/Town04_Clear_Noon_09_09_2020_14_57_22_frame_0.jpg\n"
          ]
        }
      ],
      "source": [
        "import os\n",
        "from PIL import Image\n",
        "\n",
        "# # Split path 설정\n",
        "# if os.path.exists(os.path.join('/content/drive/MyDrive/lane', \"test\")):\n",
        "#     split_path = os.path.join('/content/drive/MyDrive/lane', \"test\", \"images\")\n",
        "# else:\n",
        "#     split_path = os.path.join('/content/drive/MyDrive/lane', \"valid\", \"images\")\n",
        "\n",
        "# # 예시 이미지 선택\n",
        "# example_image_name = os.listdir(split_path)[0]\n",
        "# example_image_path = os.path.join(split_path, example_image_name)\n",
        "\n",
        "# 선택한 이미지 경로\n",
        "import os\n",
        "from PIL import Image\n",
        "\n",
        "# 선택한 이미지 경로\n",
        "image_to_test = \"/content/drive/MyDrive/lane/test_set/images/snow2.PNG\"\n",
        "\n",
        "# 이미지 전처리: 크기 조정 및 형식 변환\n",
        "def preprocess_image(input_path, output_path, size=(640, 640)):\n",
        "    with Image.open(input_path) as img:\n",
        "        img = img.resize(size, Image.LANCZOS)  # 이미지 크기 조정\n",
        "        # RGBA 모드일 경우 RGB로 변환\n",
        "        if img.mode == 'RGBA':\n",
        "            img = img.convert('RGB')  # RGBA를 RGB로 변환\n",
        "        img.save(output_path, format='JPEG')  # jpg 형식으로 저장\n",
        "\n",
        "# 전처리된 이미지 저장 경로\n",
        "processed_image_path = \"/content/drive/MyDrive/train/train/Town04_Clear_Noon_09_09_2020_14_57_22_frame_0.jpg\"\n",
        "\n",
        "# 전처리 실행\n",
        "preprocess_image(image_to_test, processed_image_path)\n",
        "print(f\"Processed and saved: {processed_image_path}\")\n"
      ]
    },
    {
      "cell_type": "code",
      "execution_count": 5,
      "metadata": {
        "colab": {
          "base_uri": "https://localhost:8080/"
        },
        "id": "sktsT3TkCEij",
        "outputId": "5b482074-4dd1-406d-dda8-e45ef2ab7234"
      },
      "outputs": [
        {
          "output_type": "stream",
          "name": "stdout",
          "text": [
            "Creating new Ultralytics Settings v0.0.6 file ✅ \n",
            "View Ultralytics Settings with 'yolo settings' or at '/root/.config/Ultralytics/settings.json'\n",
            "Update Settings with 'yolo settings key=value', i.e. 'yolo settings runs_dir=path/to/dir'. For help see https://docs.ultralytics.com/quickstart/#ultralytics-settings.\n",
            "\u001b[34m\u001b[1msegment/predict: \u001b[0mweights=['/content/drive/MyDrive/lane/best1.pt'], source=/content/drive/MyDrive/lane/test_set/images/-2024-10-19-120351_png.rf.77a208f0bbad0657915a8c47cfc94ea1.jpg, data=data/coco128.yaml, imgsz=[640, 640], conf_thres=0.1, iou_thres=0.45, max_det=1000, device=, view_img=False, save_txt=False, save_conf=False, save_crop=False, nosave=False, classes=None, agnostic_nms=False, augment=False, visualize=False, update=False, project=runs/predict-seg, name=exp, exist_ok=False, line_thickness=3, hide_labels=False, hide_conf=False, half=False, dnn=False, vid_stride=1, retina_masks=False\n",
            "YOLOv5 🚀 v7.0-388-g882c35fc Python-3.10.12 torch-2.5.1+cu121 CUDA:0 (Tesla T4, 15102MiB)\n",
            "\n",
            "Fusing layers... \n",
            "Model summary: 165 layers, 7398422 parameters, 0 gradients, 25.7 GFLOPs\n",
            "WARNING ⚠️ NMS time limit 0.550s exceeded\n",
            "image 1/1 /content/drive/MyDrive/lane/test_set/images/-2024-10-19-120351_png.rf.77a208f0bbad0657915a8c47cfc94ea1.jpg: 640x640 8 lanes, 14.7ms\n",
            "Speed: 0.7ms pre-process, 14.7ms inference, 746.3ms NMS per image at shape (1, 3, 640, 640)\n",
            "Results saved to \u001b[1mruns/predict-seg/exp\u001b[0m\n"
          ]
        }
      ],
      "source": [
        "!python segment/predict.py --img 640 --weights /content/drive/MyDrive/lane/best1.pt --source /content/drive/MyDrive/lane/test_set/images/-2024-10-19-120351_png.rf.77a208f0bbad0657915a8c47cfc94ea1.jpg --conf 0.1\n"
      ]
    },
    {
      "cell_type": "markdown",
      "source": [],
      "metadata": {
        "id": "YBcGc8tlekVK"
      }
    },
    {
      "cell_type": "code",
      "execution_count": 51,
      "metadata": {
        "colab": {
          "base_uri": "https://localhost:8080/"
        },
        "id": "dSrTP97ND355",
        "outputId": "a8a2ea7c-070d-443d-9505-762086258b1c"
      },
      "outputs": [
        {
          "output_type": "stream",
          "name": "stdout",
          "text": [
            "\u001b[34m\u001b[1msegment/predict: \u001b[0mweights=['/content/drive/MyDrive/lane/best1.pt'], source=/content/drive/MyDrive/lane/test_set/images/14498_22756_5732_png.rf.beae3e12dea29caf3bcd21c8834613c4.jpg, data=data/coco128.yaml, imgsz=[640, 640], conf_thres=0.1, iou_thres=0.45, max_det=1000, device=, view_img=False, save_txt=True, save_conf=True, save_crop=False, nosave=False, classes=None, agnostic_nms=False, augment=False, visualize=False, update=False, project=runs/predict-seg, name=exp, exist_ok=False, line_thickness=3, hide_labels=False, hide_conf=False, half=False, dnn=False, vid_stride=1, retina_masks=False\n",
            "YOLOv5 🚀 v7.0-388-g882c35fc Python-3.10.12 torch-2.5.1+cu121 CUDA:0 (Tesla T4, 15102MiB)\n",
            "\n",
            "Fusing layers... \n",
            "Model summary: 165 layers, 7398422 parameters, 0 gradients, 25.7 GFLOPs\n",
            "WARNING ⚠️ NMS time limit 0.550s exceeded\n",
            "image 1/1 /content/drive/MyDrive/lane/test_set/images/14498_22756_5732_png.rf.beae3e12dea29caf3bcd21c8834613c4.jpg: 640x640 2 lanes, 14.7ms\n",
            "Speed: 0.6ms pre-process, 14.7ms inference, 642.7ms NMS per image at shape (1, 3, 640, 640)\n",
            "Results saved to \u001b[1mruns/predict-seg/exp5\u001b[0m\n",
            "1 labels saved to runs/predict-seg/exp5/labels\n"
          ]
        }
      ],
      "source": [
        "!python segment/predict.py --weights /content/drive/MyDrive/lane/best1.pt --source /content/drive/MyDrive/lane/test_set/images/14498_22756_5732_png.rf.beae3e12dea29caf3bcd21c8834613c4.jpg --img 640 --conf 0.1 --save-txt --save-conf\n"
      ]
    },
    {
      "cell_type": "code",
      "execution_count": 52,
      "metadata": {
        "colab": {
          "base_uri": "https://localhost:8080/"
        },
        "id": "kyviJ6lhHdlx",
        "outputId": "6fdf959e-ea5f-41bb-f777-a56522aa22bf"
      },
      "outputs": [
        {
          "output_type": "stream",
          "name": "stdout",
          "text": [
            "['0', '0.3583333328125', '0.844380403125', '0.355', '0.844380403125', '0.20166666718749998', '0.99711815625', '0.2366666671875', '0.9913544671875', '0.3566666671875', '0.8645533140625', '0.3583333328125', '0.844380403125']\n",
            "[[229, 540], [227, 540], [129, 638], [151, 634], [228, 553], [229, 540]]\n"
          ]
        },
        {
          "output_type": "execute_result",
          "data": {
            "text/plain": [
              "True"
            ]
          },
          "metadata": {},
          "execution_count": 52
        }
      ],
      "source": [
        "import os\n",
        "import cv2\n",
        "import numpy as np\n",
        "\n",
        "# 이미지 크기 정의\n",
        "width = 640  # 원본 이미지의 너비\n",
        "height = 640 # 원본 이미지의 높이\n",
        "\n",
        "# 원본 이미지 불러오기\n",
        "img = cv2.imread('/content/drive/MyDrive/lane/test_set/images/14498_22756_5732_png.rf.beae3e12dea29caf3bcd21c8834613c4.jpg')  # 원본 이미지 경로\n",
        "mask = np.zeros(img.shape[:2], np.uint8)  # 마스크 초기화\n",
        "\n",
        "# 레이블 파일 읽기\n",
        "with open('/content/drive/MyDrive/lane/test_set/labels/14498_22756_5732_png.rf.beae3e12dea29caf3bcd21c8834613c4.txt', 'r') as f:\n",
        "    for line in f:\n",
        "        line = line.strip().split(\" \")\n",
        "\n",
        "        # 좌표 쌍 생성\n",
        "        pts_part = []\n",
        "        for i in range(1, len(line), 2):\n",
        "            # 인덱스 범위 체크\n",
        "            if i + 1 < len(line):  # 다음 인덱스가 범위 내에 있는지 확인\n",
        "                pts_part.append([int(float(line[i]) * width), int(float(line[i + 1]) * height)])\n",
        "            # else:\n",
        "            #     print(f\"Skipping incomplete coordinates: {line}\")\n",
        "            #     break  # 잘못된 좌표 쌍을 만나면 이 줄을 건너뜁니다.\n",
        "        # pts_part가 비어있지 않은 경우에만 윤곽선 그리기\n",
        "        if pts_part:\n",
        "            # 윤곽선 그리기\n",
        "            cv2.fillPoly(mask, [np.array(pts_part)], color=(255))\n",
        "print(line)\n",
        "print(pts_part)\n",
        "# 마스크 적용\n",
        "dst = cv2.bitwise_and(img, img, mask=mask)\n",
        "\n",
        "# 결과 저장\n",
        "output_path = os.path.join('/content/yolov5/runs/predict-seg/exp', 'output_image.jpg')  # 원하는 출력 경로\n",
        "cv2.imwrite(output_path, dst)\n"
      ]
    },
    {
      "cell_type": "code",
      "source": [
        "import os\n",
        "import cv2\n",
        "import numpy as np\n",
        "\n",
        "# 이미지 크기 정의\n",
        "width = 640  # 원본 이미지의 너비\n",
        "height = 640 # 원본 이미지의 높이\n",
        "\n",
        "# 원본 이미지 불러오기\n",
        "img = cv2.imread('/content/drive/MyDrive/lane/test_set/images/14498_22756_5732_png.rf.beae3e12dea29caf3bcd21c8834613c4.jpg')  # 원본 이미지 경로\n",
        "mask = np.zeros(img.shape[:2], np.uint8)  # 마스크 초기화\n",
        "\n",
        "# 레이블 파일 읽기\n",
        "with open('/content/yolov5/runs/predict-seg/exp5/labels/14498_22756_5732_png.rf.beae3e12dea29caf3bcd21c8834613c4.txt', 'r') as f:\n",
        "    for line in f:\n",
        "        line = line.strip().split(\" \")\n",
        "\n",
        "        # 좌표 쌍 생성\n",
        "        pts_part = []\n",
        "        for i in range(1, len(line), 2):\n",
        "            # 인덱스 범위 체크\n",
        "            if i + 1 < len(line):  # 다음 인덱스가 범위 내에 있는지 확인\n",
        "                pts_part.append([int(float(line[i]) * width), int(float(line[i + 1]) * height)])\n",
        "            # else:\n",
        "            #     print(f\"Skipping incomplete coordinates: {line}\")\n",
        "            #     break  # 잘못된 좌표 쌍을 만나면 이 줄을 건너뜁니다.\n",
        "        # pts_part가 비어있지 않은 경우에만 윤곽선 그리기\n",
        "        if pts_part:\n",
        "            # 윤곽선 그리기\n",
        "            cv2.fillPoly(mask, [np.array(pts_part)], color=(255))\n",
        "print(line)\n",
        "print(pts_part)\n",
        "# 마스크 적용\n",
        "dst = cv2.bitwise_and(img, img, mask=mask)\n",
        "\n",
        "# 결과 저장\n",
        "output_path = os.path.join('/content/yolov5/runs/predict-seg/exp', 'answer.jpg')  # 원하는 출력 경로\n",
        "# output_path = os.path.join('/content/yolov5/runs/predict-seg/exp', 'output_image.jpg')  # 원하는 출력 경로\n",
        "\n",
        "cv2.imwrite(output_path, dst)\n"
      ],
      "metadata": {
        "colab": {
          "base_uri": "https://localhost:8080/"
        },
        "id": "mKbsUzCakHCT",
        "outputId": "f79dfe1d-cdd4-46ae-db51-71e40a3ed8df"
      },
      "execution_count": 56,
      "outputs": [
        {
          "output_type": "stream",
          "name": "stdout",
          "text": [
            "['0', '0.371875', '0.83125', '0.370313', '0.832812', '0.365625', '0.832812', '0.35625', '0.842188', '0.35625', '0.84375', '0.35', '0.85', '0.35', '0.851562', '0.326562', '0.875', '0.325', '0.875', '0.325', '0.876562', '0.321875', '0.879687', '0.320312', '0.879687', '0.3125', '0.8875', '0.310937', '0.8875', '0.303125', '0.895312', '0.301562', '0.895312', '0.3', '0.896875', '0.3', '0.898438', '0.298438', '0.9', '0.296875', '0.9', '0.253125', '0.94375', '0.251563', '0.94375', '0.25', '0.945312', '0.25', '0.946875', '0.246875', '0.95', '0.245312', '0.95', '0.24375', '0.951563', '0.24375', '0.953125', '0.2375', '0.959375', '0.2375', '0.960938', '0.234375', '0.964063', '0.232812', '0.964063', '0.232812', '0.965625', '0.207813', '0.990625', '0.207813', '0.992188', '0.20625', '0.99375', '0.20625', '0.998438', '0.229687', '0.998438', '0.229687', '0.996875', '0.235938', '0.990625', '0.235938', '0.989062', '0.239063', '0.985937', '0.240625', '0.985937', '0.242188', '0.984375', '0.242188', '0.982813', '0.279687', '0.945312', '0.279687', '0.94375', '0.285937', '0.9375', '0.285937', '0.935938', '0.30625', '0.915625', '0.30625', '0.914062', '0.307813', '0.9125', '0.309375', '0.9125', '0.310937', '0.910937', '0.310937', '0.909375', '0.329688', '0.890625', '0.329688', '0.889063', '0.332812', '0.885938', '0.334375', '0.885938', '0.335938', '0.884375', '0.335938', '0.882812', '0.339063', '0.879687', '0.340625', '0.879687', '0.342187', '0.878125', '0.342187', '0.876562', '0.345313', '0.873438', '0.346875', '0.873438', '0.348437', '0.871875', '0.348437', '0.870313', '0.351562', '0.867188', '0.353125', '0.867188', '0.354688', '0.865625', '0.354688', '0.864062', '0.357812', '0.860937', '0.359375', '0.860937', '0.365625', '0.854688', '0.367188', '0.854688', '0.373437', '0.848437', '0.373437', '0.846875', '0.384375', '0.835938', '0.384375', '0.832812', '0.382812', '0.83125', '0.92088']\n",
            "[[238, 532], [237, 532], [234, 532], [228, 539], [228, 540], [224, 544], [224, 544], [208, 560], [208, 560], [208, 560], [206, 562], [204, 562], [200, 568], [198, 568], [194, 572], [192, 572], [192, 574], [192, 575], [191, 576], [190, 576], [162, 604], [161, 604], [160, 604], [160, 606], [158, 608], [156, 608], [156, 609], [156, 610], [152, 614], [152, 615], [150, 617], [148, 617], [148, 618], [133, 634], [133, 635], [132, 636], [132, 639], [146, 639], [146, 638], [151, 634], [151, 632], [153, 630], [154, 630], [155, 630], [155, 629], [178, 604], [178, 604], [182, 600], [182, 599], [196, 586], [196, 584], [197, 584], [198, 584], [198, 582], [198, 582], [211, 570], [211, 569], [212, 567], [214, 567], [215, 566], [215, 564], [217, 562], [218, 562], [218, 562], [218, 560], [221, 559], [222, 559], [222, 558], [222, 557], [224, 555], [226, 555], [227, 554], [227, 552], [228, 550], [230, 550], [234, 547], [235, 547], [238, 542], [238, 542], [246, 535], [246, 532], [244, 532]]\n"
          ]
        },
        {
          "output_type": "execute_result",
          "data": {
            "text/plain": [
              "True"
            ]
          },
          "metadata": {},
          "execution_count": 56
        }
      ]
    },
    {
      "cell_type": "code",
      "execution_count": 57,
      "metadata": {
        "colab": {
          "base_uri": "https://localhost:8080/",
          "height": 445
        },
        "id": "-5XsBniuHeGE",
        "outputId": "2a68d5c1-2d24-474d-9ddc-38c2accdb4e7"
      },
      "outputs": [
        {
          "output_type": "display_data",
          "data": {
            "text/plain": [
              "<Figure size 640x480 with 1 Axes>"
            ],
            "image/png": "[encoded data removed]"
          },
          "metadata": {}
        },
        {
          "output_type": "stream",
          "name": "stdout",
          "text": [
            "Enhanced mask image saved at: /content/yolov5/runs/predict-seg/exp/output_image.jpg\n"
          ]
        }
      ],
      "source": [
        "import os\n",
        "import cv2\n",
        "import numpy as np\n",
        "import matplotlib.pyplot as plt\n",
        "\n",
        "# 마스크 이미지 경로\n",
        "mask_path = os.path.join('/content/yolov5/runs/predict-seg/exp', 'answer.jpg')\n",
        "mask = cv2.imread(mask_path, cv2.IMREAD_GRAYSCALE)  # 마스크를 그레이스케일로 읽기\n",
        "\n",
        "# 차선 픽셀만 남기기\n",
        "lane_pixels = np.where(mask >= 10)  # 차선 픽셀\n",
        "\n",
        "# 새로운 마스크 이미지를 생성 (배경을 모두 검정색으로 설정)\n",
        "new_mask = np.zeros_like(mask)  # 기존 마스크와 동일한 크기의 검정색 이미지 생성\n",
        "new_mask[lane_pixels] = 255  # 차선이 있는 위치에 흰색(255) 설정\n",
        "\n",
        "# 새로운 마스크 이미지 시각화\n",
        "plt.imshow(new_mask, cmap='gray')\n",
        "plt.title('Lane Only Mask')\n",
        "plt.axis('off')\n",
        "plt.show()\n",
        "\n",
        "# 새로운 마스크 이미지 저장 경로\n",
        "final_output_path = os.path.join('/content/yolov5/runs/predict-seg/exp', 'output_image.jpg')\n",
        "\n",
        "# 새로운 마스크 이미지 저장\n",
        "cv2.imwrite(final_output_path, new_mask)\n",
        "print(f\"Enhanced mask image saved at: {final_output_path}\")\n"
      ]
    },
    {
      "cell_type": "code",
      "execution_count": 66,
      "metadata": {
        "colab": {
          "base_uri": "https://localhost:8080/"
        },
        "id": "DOid4PzW_rl4",
        "outputId": "c4b39510-5a30-429d-cfe4-3d1d314af4c0"
      },
      "outputs": [
        {
          "output_type": "stream",
          "name": "stdout",
          "text": [
            "BDA 적용 후 최종 차선 마스크 저장 경로: /content/yolov5/runs/predict-seg/exp/enhanced1_output_image.jpg\n"
          ]
        }
      ],
      "source": [
        "import os\n",
        "import cv2\n",
        "import numpy as np\n",
        "\n",
        "# 마스크 이미지 경로\n",
        "mask_path = os.path.join('/content/yolov5/runs/predict-seg/exp', 'output_image.jpg')\n",
        "mask = cv2.imread(mask_path, cv2.IMREAD_GRAYSCALE)  # 마스크를 그레이스케일로 읽기\n",
        "\n",
        "# 차선과 배경의 픽셀 값\n",
        "lane_pixels = np.where(mask > 10)  # 차선 픽셀\n",
        "background_pixels = np.where(mask < 0)  # 배경 픽셀\n",
        "\n",
        "# 이미지 전처리 함수 (모자 형태의 커널 적용)\n",
        "def preprocess_image(image, a):\n",
        "    # 그레이스케일로 변환\n",
        "    gray = cv2.cvtColor(image, cv2.COLOR_BGR2GRAY)\n",
        "\n",
        "    # 모자 형태의 커널 생성: 가로 비율 a/2a/a\n",
        "    kernel_width = 4 * a  # 총 너비는 4a\n",
        "    kernel_height = 3  # 3개의 행으로 구성\n",
        "\n",
        "    # 커널 초기화\n",
        "    kernel = np.zeros((kernel_height, kernel_width), dtype=np.float32)\n",
        "\n",
        "    kernel[0, a:3*a] = 1  # 첫 번째 행의 중간 2a 부분을 1로 설정\n",
        "    kernel[1, a:3*a] = 1  # 두 번째 행의 중간 2a 부분을 1로 설정\n",
        "\n",
        "    # -1 영역 정의 (세 번째 행)\n",
        "    kernel[2, :] = -1     # 세 번째 행 전체를 -1로 채움\n",
        "\n",
        "    # 커널을 사용하여 컨볼루션 적용\n",
        "    filtered_image = cv2.filter2D(gray, -1, kernel)\n",
        "\n",
        "    # 임계값 처리를 통해 윤곽선 강조\n",
        "    _, contour_image = cv2.threshold(filtered_image, 50, 255, cv2.THRESH_BINARY)\n",
        "\n",
        "    return contour_image\n",
        "\n",
        "# 특징 추출 함수 정의\n",
        "def extract_features(image, pixels, window_size=5):\n",
        "    features = []\n",
        "    half_window = window_size // 2\n",
        "\n",
        "    for y, x in zip(pixels[0], pixels[1]):\n",
        "        # 주변 영역 추출\n",
        "        x_start = max(0, x - half_window)\n",
        "        x_end = min(image.shape[1], x + half_window + 1)\n",
        "        y_start = max(0, y - half_window)\n",
        "        y_end = min(image.shape[0], y + half_window + 1)\n",
        "\n",
        "        # 주변 영역의 평균값을 특징으로 사용\n",
        "        window = image[y_start:y_end, x_start:x_end]\n",
        "        mean_value = np.mean(window)\n",
        "        features.append(mean_value)\n",
        "\n",
        "    return np.array(features).reshape(-1, 1)  # 2차원 배열로 반환\n",
        "\n",
        "# 원본 이미지 불러오기\n",
        "img_path = '/content/drive/MyDrive/lane/test_set/images/14498_22756_5732_png.rf.beae3e12dea29caf3bcd21c8834613c4.jpg'\n",
        "img = cv2.imread(img_path)\n",
        "if img is None:\n",
        "    raise ValueError(\"원본 이미지를 불러오는 데 실패했습니다.\")\n",
        "\n",
        "# 이미지 전처리\n",
        "a = 6 # a의 값 설정\n",
        "contour_image = preprocess_image(img, a)\n",
        "\n",
        "# 차선 픽셀의 주변 픽셀 값 추출\n",
        "lane_features = extract_features(contour_image, lane_pixels)\n",
        "\n",
        "# 레이블 생성 (차선: 1)\n",
        "labels = np.array([1] * lane_features.shape[0])  # 배경에 대한 레이블은 필요 없음\n",
        "all_features = lane_features  # 배경은 포함하지 않음\n",
        "\n",
        "# BDA를 통한 판별 함수 학습\n",
        "def biased_discriminant_analysis(X, y, alpha=1.0):\n",
        "    # 각 클래스의 평균 및 공분산 계산\n",
        "    mean_lanes = np.mean(X[y == 1], axis=0)\n",
        "\n",
        "    # 공분산 행렬의 정칙화\n",
        "    cov_lanes = np.cov(X[y == 1], rowvar=False) + np.eye(X.shape[1]) * alpha\n",
        "\n",
        "    # 공분산 행렬의 역행렬\n",
        "    cov_inv = np.linalg.pinv(cov_lanes)\n",
        "\n",
        "    # BDA 판별 함수의 계수\n",
        "    coeff = cov_inv @ (mean_lanes)\n",
        "\n",
        "    return coeff, mean_lanes\n",
        "\n",
        "# BDA 적용\n",
        "coeff, mean_lanes = biased_discriminant_analysis(all_features, labels)\n",
        "\n",
        "# 예측\n",
        "projections = all_features @ coeff\n",
        "threshold = np.mean(projections)  # 평균 임계값 설정\n",
        "predictions = (projections >= threshold).astype(int)\n",
        "\n",
        "# 새 마스크 생성 (차선 픽셀 강화)\n",
        "enhanced_mask = np.zeros_like(mask)\n",
        "for i, pred in enumerate(predictions):\n",
        "    if pred == 1:\n",
        "        y, x = lane_pixels[0][i], lane_pixels[1][i]\n",
        "        enhanced_mask[y, x] = 255  # 차선으로 예측된 픽셀은 흰색으로 설정\n",
        "\n",
        "# 잡음 제거를 위한 모폴로지 연산\n",
        "kernel = np.ones((4, 4), np.uint8)  # 3x3 커널\n",
        "enhanced_mask = cv2.morphologyEx(enhanced_mask, cv2.MORPH_CLOSE, kernel)  # 닫힘 연산\n",
        "\n",
        "# 최종 차선 마스크 저장\n",
        "final_output_path = os.path.join('/content/yolov5/runs/predict-seg/exp', 'enhanced1_output_image.jpg')\n",
        "cv2.imwrite(final_output_path, enhanced_mask)\n",
        "\n",
        "# 디버깅 출력 (선택 사항)\n",
        "print(\"BDA 적용 후 최종 차선 마스크 저장 경로:\", final_output_path)\n"
      ]
    },
    {
      "cell_type": "code",
      "source": [
        "import os\n",
        "import cv2\n",
        "import numpy as np\n",
        "import matplotlib.pyplot as plt\n",
        "from skimage import img_as_float\n",
        "from skimage.segmentation import active_contour\n",
        "\n",
        "# B-Snake 적용 함수 정의\n",
        "def apply_bsnake(image, mask):\n",
        "    # 이미지 전처리\n",
        "    img_float = img_as_float(image)\n",
        "\n",
        "    # 마스크에서 초기 곡선 생성 (B-Snake가 따라갈 초기 곡선)\n",
        "    # 마스크의 1 값 위치 찾기\n",
        "    y, x = np.where(mask > 0)  # 마스크에서 포인트 추출\n",
        "\n",
        "    # 초기 곡선 포인트 배열 생성\n",
        "    init = np.array([x, y]).T\n",
        "\n",
        "    # B-Snake 적용\n",
        "    snake = active_contour(img_float, init, alpha=0.015, beta=10, gamma=0.001,\n",
        "                            boundary_condition='periodic')\n",
        "\n",
        "    return snake\n",
        "\n",
        "# 원본 이미지 불러오기\n",
        "img_path = '/content/drive/MyDrive/train/train/Town04_Clear_Noon_09_09_2020_14_57_22_frame_0.jpg'\n",
        "img = cv2.imread(img_path)\n",
        "if img is None:\n",
        "    raise ValueError(\"원본 이미지를 불러오는 데 실패했습니다.\")\n",
        "\n",
        "# enhanced_mask를 정의해야 합니다. 여기서는 이미 정의된 것으로 가정합니다.\n",
        "# enhanced_mask = ...\n",
        "\n",
        "# B-Snake 적용\n",
        "bsnake_result = apply_bsnake(img, enhanced_mask)\n",
        "\n",
        "# 결과 시각화\n",
        "plt.figure(figsize=(10, 10))\n",
        "plt.imshow(cv2.cvtColor(img, cv2.COLOR_BGR2RGB))\n",
        "plt.plot(bsnake_result[:, 0], bsnake_result[:, 1], '-r', lw=3)  # B-Snake 곡선\n",
        "plt.title('B-Snake 적용 결과')\n",
        "plt.axis('off')\n",
        "plt.show()\n",
        "\n",
        "# 최종 B-Snake 마스크 생성\n",
        "final_bsnake_mask = np.zeros_like(enhanced_mask)\n",
        "for point in bsnake_result.astype(int):\n",
        "    cv2.circle(final_bsnake_mask, tuple(point), 1, (255), -1)\n",
        "\n",
        "# 최종 B-Snake 마스크 저장\n",
        "final_bsnake_output_path = os.path.join('/content/yolov5/runs/predict-seg/exp', 'bsnake_output_image.jpg')\n",
        "cv2.imwrite(final_bsnake_output_path, final_bsnake_mask)\n",
        "\n",
        "# 디버깅 출력 (선택 사항)\n",
        "print(\"B-Snake 최종 마스크 저장 경로:\", final_bsnake_output_path)\n"
      ],
      "metadata": {
        "colab": {
          "base_uri": "https://localhost:8080/",
          "height": 211
        },
        "id": "Q42JYSQM6GmC",
        "outputId": "24dd488f-f8fb-4cde-f9a6-fb1a70b92afe"
      },
      "execution_count": 61,
      "outputs": [
        {
          "output_type": "error",
          "ename": "ValueError",
          "evalue": "원본 이미지를 불러오는 데 실패했습니다.",
          "traceback": [
            "\u001b[0;31m---------------------------------------------------------------------------\u001b[0m",
            "\u001b[0;31mValueError\u001b[0m                                Traceback (most recent call last)",
            "\u001b[0;32m<ipython-input-61-38a13909c726>\u001b[0m in \u001b[0;36m<cell line: 53>\u001b[0;34m()\u001b[0m\n\u001b[1;32m     52\u001b[0m \u001b[0;34m\u001b[0m\u001b[0m\n\u001b[1;32m     53\u001b[0m \u001b[0;32mif\u001b[0m \u001b[0mimg\u001b[0m \u001b[0;32mis\u001b[0m \u001b[0;32mNone\u001b[0m\u001b[0;34m:\u001b[0m\u001b[0;34m\u001b[0m\u001b[0;34m\u001b[0m\u001b[0m\n\u001b[0;32m---> 54\u001b[0;31m     \u001b[0;32mraise\u001b[0m \u001b[0mValueError\u001b[0m\u001b[0;34m(\u001b[0m\u001b[0;34m\"원본 이미지를 불러오는 데 실패했습니다.\"\u001b[0m\u001b[0;34m)\u001b[0m\u001b[0;34m\u001b[0m\u001b[0;34m\u001b[0m\u001b[0m\n\u001b[0m\u001b[1;32m     55\u001b[0m \u001b[0;34m\u001b[0m\u001b[0m\n\u001b[1;32m     56\u001b[0m \u001b[0;31m# 이미지 전처리\u001b[0m\u001b[0;34m\u001b[0m\u001b[0;34m\u001b[0m\u001b[0m\n",
            "\u001b[0;31mValueError\u001b[0m: 원본 이미지를 불러오는 데 실패했습니다."
          ]
        }
      ]
    },
    {
      "cell_type": "code",
      "execution_count": null,
      "metadata": {
        "colab": {
          "base_uri": "https://localhost:8080/",
          "height": 211
        },
        "id": "1JgBpcrkHso9",
        "outputId": "20755a94-6612-4116-a792-ca20d20a6631"
      },
      "outputs": [
        {
          "output_type": "error",
          "ename": "ValueError",
          "evalue": "BDA 마스크 이미지를 불러오는 데 실패했습니다.",
          "traceback": [
            "\u001b[0;31m---------------------------------------------------------------------------\u001b[0m",
            "\u001b[0;31mValueError\u001b[0m                                Traceback (most recent call last)",
            "\u001b[0;32m<ipython-input-26-2e759fa839d1>\u001b[0m in \u001b[0;36m<cell line: 9>\u001b[0;34m()\u001b[0m\n\u001b[1;32m      8\u001b[0m \u001b[0;34m\u001b[0m\u001b[0m\n\u001b[1;32m      9\u001b[0m \u001b[0;32mif\u001b[0m \u001b[0mbda_mask\u001b[0m \u001b[0;32mis\u001b[0m \u001b[0;32mNone\u001b[0m\u001b[0;34m:\u001b[0m\u001b[0;34m\u001b[0m\u001b[0;34m\u001b[0m\u001b[0m\n\u001b[0;32m---> 10\u001b[0;31m     \u001b[0;32mraise\u001b[0m \u001b[0mValueError\u001b[0m\u001b[0;34m(\u001b[0m\u001b[0;34m\"BDA 마스크 이미지를 불러오는 데 실패했습니다.\"\u001b[0m\u001b[0;34m)\u001b[0m\u001b[0;34m\u001b[0m\u001b[0;34m\u001b[0m\u001b[0m\n\u001b[0m\u001b[1;32m     11\u001b[0m \u001b[0;34m\u001b[0m\u001b[0m\n\u001b[1;32m     12\u001b[0m \u001b[0;31m# 왼쪽 라인과 오른쪽 라인 픽셀 찾기\u001b[0m\u001b[0;34m\u001b[0m\u001b[0;34m\u001b[0m\u001b[0m\n",
            "\u001b[0;31mValueError\u001b[0m: BDA 마스크 이미지를 불러오는 데 실패했습니다."
          ]
        }
      ],
      "source": [
        "import os\n",
        "import cv2\n",
        "import numpy as np\n",
        "\n",
        "# BDA 마스크 이미지 경로\n",
        "bda_mask_path = os.path.join('/content/yolov5/runs/predict-seg/exp', 'enhanced_output_image.jpg')\n",
        "bda_mask = cv2.imread(bda_mask_path, cv2.IMREAD_GRAYSCALE)\n",
        "\n",
        "if bda_mask is None:\n",
        "    raise ValueError(\"BDA 마스크 이미지를 불러오는 데 실패했습니다.\")\n",
        "\n",
        "# 왼쪽 라인과 오른쪽 라인 픽셀 찾기\n",
        "left_lane_pixels = np.where(bda_mask[:, :bda_mask.shape[1] // 2] == 255)\n",
        "right_lane_pixels = np.where(bda_mask[:, bda_mask.shape[1] // 2:] == 255)\n",
        "\n",
        "# 예측된 차선 포인트 (y, x 좌표)\n",
        "left_predicted_points = np.array([(y, x) for y, x in zip(left_lane_pixels[0], left_lane_pixels[1])])\n",
        "right_predicted_points = np.array([(y, x + bda_mask.shape[1] // 2) for y, x in zip(right_lane_pixels[0], right_lane_pixels[1])])\n",
        "\n",
        "# 차선 포인트가 충분히 있는지 확인\n",
        "if len(left_predicted_points) < 2:\n",
        "    raise ValueError(\"왼쪽 차선 포인트가 충분하지 않습니다.\")\n",
        "if len(right_predicted_points) < 2:\n",
        "    raise ValueError(\"오른쪽 차선 포인트가 충분하지 않습니다.\")\n",
        "\n",
        "# 중간 포인트 계산\n",
        "def get_middle_points(points):\n",
        "    # y 값에 따라 정렬\n",
        "    sorted_points = points[np.argsort(points[:, 0])]\n",
        "    middle_points = []\n",
        "\n",
        "    # 중간 포인트 계산\n",
        "    for i in range(len(sorted_points) - 1):\n",
        "        y_avg = (sorted_points[i][0] + sorted_points[i + 1][0]) // 2\n",
        "        x_avg = (sorted_points[i][1] + sorted_points[i + 1][1]) // 2\n",
        "        middle_points.append((y_avg, x_avg))\n",
        "\n",
        "    return np.array(middle_points)\n",
        "\n",
        "# 중간 포인트 생성\n",
        "left_middle_points = get_middle_points(left_predicted_points)\n",
        "right_middle_points = get_middle_points(right_predicted_points)\n",
        "\n",
        "# 각 차선 그리기 함수\n",
        "def draw_lane(mask, points, color=255):\n",
        "    for i in range(len(points) - 1):\n",
        "        pt1 = (points[i][1], points[i][0])  # (x, y)\n",
        "        pt2 = (points[i + 1][1], points[i + 1][0])\n",
        "        cv2.line(mask, pt1, pt2, color, thickness=5)\n",
        "\n",
        "# 최종 차선 마스크 초기화\n",
        "final_lane_mask = np.zeros_like(bda_mask)\n",
        "\n",
        "# 각 차선을 그리기\n",
        "draw_lane(final_lane_mask, left_middle_points, color=255)  # 왼쪽 차선\n",
        "draw_lane(final_lane_mask, right_middle_points, color=255)  # 오른쪽 차선\n",
        "\n",
        "# 최종 차선 마스크 저장\n",
        "final_output_path = os.path.join('/content/yolov5/runs/predict-seg/exp', 'lane_output_image.jpg')\n",
        "cv2.imwrite(final_output_path, final_lane_mask)\n",
        "\n",
        "# 디버깅 출력\n",
        "print(\"차선을 연결한 최종 마스크 저장 경로:\", final_output_path)\n",
        "\n",
        "# 원본 이미지 불러오기 (옵션)\n",
        "original_image_path = '/content/drive/MyDrive/train/train/Town04_Clear_Noon_09_09_2020_14_57_22_frame_0.jpg'\n",
        "original_image = cv2.imread(original_image_path)\n",
        "\n",
        "if original_image is None:\n",
        "    raise ValueError(\"원본 이미지를 불러오는 데 실패했습니다.\")\n",
        "\n",
        "# 차선 마스크를 3채널로 변환하여 원본 이미지와 합성 가능하게 만들기\n",
        "final_lane_mask_color = cv2.cvtColor(final_lane_mask, cv2.COLOR_GRAY2BGR)\n",
        "\n",
        "# 원본 이미지에 차선을 덧씌우기\n",
        "result_image = cv2.addWeighted(original_image, 0.8, final_lane_mask_color, 0.2, 0)\n",
        "\n",
        "# 결과 이미지 저장\n",
        "result_output_path = os.path.join('/content/yolov5/runs/predict-seg/exp', 'result_image_with_lane.jpg')\n",
        "cv2.imwrite(result_output_path, result_image)\n",
        "\n",
        "print(\"원본 이미지에 차선을 덧씌운 결과 저장 경로:\", result_output_path)\n"
      ]
    },
    {
      "cell_type": "code",
      "execution_count": null,
      "metadata": {
        "colab": {
          "base_uri": "https://localhost:8080/"
        },
        "id": "gw4Jr8EECmfj",
        "outputId": "6e401b86-8bba-4d2d-81c8-64dde5635622"
      },
      "outputs": [
        {
          "output_type": "stream",
          "name": "stdout",
          "text": [
            "Catmull-Rom spline 적용 후 최종 보정된 차선 마스크 저장 경로: /content/yolov5/runs/predict-seg/exp/enhanced_spline_output_image.jpg\n"
          ]
        }
      ],
      "source": [
        "import os\n",
        "import cv2\n",
        "import numpy as np\n",
        "from scipy.interpolate import CubicSpline\n",
        "\n",
        "# 마스크 이미지 경로\n",
        "mask_path = os.path.join('/content/yolov5/runs/predict-seg/exp', 'enhanced_output_image.jpg')\n",
        "mask = cv2.imread(mask_path, cv2.IMREAD_GRAYSCALE)\n",
        "\n",
        "# 차선 픽셀 추출\n",
        "lane_pixels = np.where(mask > 0)\n",
        "y_coords = lane_pixels[0]\n",
        "x_coords = lane_pixels[1]\n",
        "\n",
        "# Catmull-Rom spline 보간 함수 정의\n",
        "def catmull_rom_spline(x, y, num_points=100):\n",
        "    # 입력된 제어점을 Catmull-Rom spline으로 보간\n",
        "    sorted_indices = np.argsort(x)\n",
        "    x = np.array(x)[sorted_indices]\n",
        "    y = np.array(y)[sorted_indices]\n",
        "\n",
        "    # 중복된 x 값을 제거하고 고유한 x 값만 사용\n",
        "    unique_x, unique_indices = np.unique(x, return_index=True)\n",
        "    y = y[unique_indices]\n",
        "\n",
        "    # CubicSpline을 사용하여 Catmull-Rom spline 보간 수행\n",
        "    spline = CubicSpline(unique_x, y)\n",
        "\n",
        "    # spline을 따라 부드러운 곡선을 생성\n",
        "    x_interp = np.linspace(unique_x.min(), unique_x.max(), num_points)\n",
        "    y_interp = spline(x_interp)\n",
        "\n",
        "    return x_interp, y_interp\n",
        "\n",
        "# Catmull-Rom spline 적용하여 보정된 차선 곡선 얻기\n",
        "x_spline, y_spline = catmull_rom_spline(x_coords, y_coords)\n",
        "\n",
        "# 새 마스크에 spline 차선 그리기\n",
        "enhanced_spline_mask = np.zeros_like(mask)\n",
        "\n",
        "# 보간된 곡선을 마스크에 그리기\n",
        "for x, y in zip(x_spline, y_spline):\n",
        "    x = int(round(x))\n",
        "    y = int(round(y))\n",
        "    if 0 <= x < enhanced_spline_mask.shape[1] and 0 <= y < enhanced_spline_mask.shape[0]:\n",
        "        enhanced_spline_mask[y, x] = 255\n",
        "\n",
        "# 잡음 제거를 위한 모폴로지 연산\n",
        "kernel = np.ones((3, 3), np.uint8)  # 3x3 커널\n",
        "enhanced_spline_mask = cv2.morphologyEx(enhanced_spline_mask, cv2.MORPH_CLOSE, kernel)  # 닫힘 연산\n",
        "\n",
        "# 원본 이미지 불러오기\n",
        "original_image_path = os.path.join('/content/drive/MyDrive/train/train', 'Town04_Clear_Noon_09_09_2020_14_57_22_frame_0.jpg')  # 원본 이미지 경로\n",
        "original_image = cv2.imread(original_image_path)\n",
        "\n",
        "# 마스크를 원본 이미지에 적용\n",
        "# 3채널로 변환하여 색상 정보를 유지\n",
        "enhanced_spline_mask_colored = cv2.cvtColor(enhanced_spline_mask, cv2.COLOR_GRAY2BGR)\n",
        "\n",
        "# 마스크 적용: 원본 이미지와 마스크의 비트 AND 연산\n",
        "result_image = cv2.addWeighted(original_image, 0.8, enhanced_spline_mask_colored, 0.2, 0)\n",
        "\n",
        "# 최종 보정된 차선 마스크 저장\n",
        "final_spline_output_path = os.path.join('/content/yolov5/runs/predict-seg/exp', 'enhanced_spline_output_image.jpg')\n",
        "cv2.imwrite(final_spline_output_path, result_image)\n",
        "\n",
        "# 디버깅 출력 (선택 사항)\n",
        "print(\"Catmull-Rom spline 적용 후 최종 보정된 차선 마스크 저장 경로:\", final_spline_output_path)\n"
      ]
    },
    {
      "cell_type": "code",
      "execution_count": null,
      "metadata": {
        "colab": {
          "base_uri": "https://localhost:8080/"
        },
        "id": "oLHakLBAB7HW",
        "outputId": "611a18f1-62f7-4da4-9504-f73fa8f6b096"
      },
      "outputs": [
        {
          "name": "stdout",
          "output_type": "stream",
          "text": [
            "Catmull-Rom spline 적용 후 최종 이미지 저장 경로: /content/yolov5/runs/predict-seg/exp/final_spline_image.jpg\n"
          ]
        }
      ],
      "source": [
        "import os\n",
        "import cv2\n",
        "import numpy as np\n",
        "from scipy.interpolate import CubicSpline\n",
        "\n",
        "# Catmull-Rom spline 보간 함수\n",
        "def catmull_rom_spline(x, y, num_points=100):\n",
        "    # 입력 좌표가 4개 미만인 경우 보간을 수행할 수 없으므로 그대로 반환\n",
        "    if len(x) < 4:\n",
        "        return x, y\n",
        "\n",
        "    # CubicSpline을 이용해 Catmull-Rom spline 생성\n",
        "    cs = CubicSpline(x, y)\n",
        "    x_new = np.linspace(min(x), max(x), num_points)\n",
        "    y_new = cs(x_new)\n",
        "    return x_new, y_new\n",
        "\n",
        "# 새 마스크에 spline 차선 그리기 함수\n",
        "def draw_spline_on_image(image, x_spline, y_spline, color=(0, 0, 255), thickness=2):\n",
        "    for i in range(1, len(x_spline)):\n",
        "        # 이전 점과 현재 점을 연결하여 선을 그림\n",
        "        start_point = (int(x_spline[i - 1]), int(y_spline[i - 1]))\n",
        "        end_point = (int(x_spline[i]), int(y_spline[i]))\n",
        "        cv2.line(image, start_point, end_point, color, thickness)\n",
        "    return image\n",
        "\n",
        "# 원본 이미지 불러오기\n",
        "img_path = '/content/drive/MyDrive/train/train/Town04_Clear_Noon_09_09_2020_14_57_22_frame_0.jpg'\n",
        "img = cv2.imread(img_path)\n",
        "if img is None:\n",
        "    raise ValueError(\"원본 이미지를 불러오는 데 실패했습니다.\")\n",
        "\n",
        "# x_coords와 y_coords를 정렬하여 보간 함수에 전달\n",
        "unique_indices = np.unique(x_coords, return_index=True)[1]  # 중복 제거\n",
        "x_unique = x_coords[unique_indices]\n",
        "y_unique = y_coords[unique_indices]\n",
        "\n",
        "# x와 y를 함께 정렬\n",
        "sorted_indices = np.argsort(x_unique)\n",
        "x_sorted = x_unique[sorted_indices]\n",
        "y_sorted = y_unique[sorted_indices]\n",
        "\n",
        "# 보정된 차선 좌표로 Catmull-Rom spline 생성\n",
        "x_spline, y_spline = catmull_rom_spline(x_sorted, y_sorted)\n",
        "\n",
        "# 원본 이미지 위에 spline 차선을 그림\n",
        "result_image = draw_spline_on_image(img.copy(), x_spline, y_spline)\n",
        "\n",
        "# 최종 이미지 저장 경로 설정\n",
        "final_image_path = os.path.join('/content/yolov5/runs/predict-seg/exp', 'final_spline_image.jpg')\n",
        "\n",
        "# 결과 이미지 저장\n",
        "cv2.imwrite(final_image_path, result_image)\n",
        "\n",
        "# 디버깅 출력 (선택 사항)\n",
        "print(\"Catmull-Rom spline 적용 후 최종 이미지 저장 경로:\", final_image_path)\n"
      ]
    },
    {
      "cell_type": "code",
      "execution_count": 67,
      "metadata": {
        "colab": {
          "base_uri": "https://localhost:8080/",
          "height": 484
        },
        "id": "j4Xh0Ly-CBQ6",
        "outputId": "9b616d8f-5f82-4934-d280-e6e2abc72ecc"
      },
      "outputs": [
        {
          "output_type": "stream",
          "name": "stdout",
          "text": [
            "--- YOLO Model ---\n",
            "Precision: 0.8008\n",
            "FPR: 0.0010\n",
            "MAE: 0.2547\n",
            "\n",
            "--- Post-Processed Model ---\n",
            "Precision: 0.8253\n",
            "FPR: 0.0005\n",
            "MAE: 0.1214\n",
            "\n"
          ]
        },
        {
          "output_type": "display_data",
          "data": {
            "text/plain": [
              "<Figure size 1200x400 with 3 Axes>"
            ],
            "image/png": "[encoded data removed]"
          },
          "metadata": {}
        },
        {
          "output_type": "stream",
          "name": "stdout",
          "text": [
            "Results saved to 'mask_comparison_results.csv'.\n"
          ]
        }
      ],
      "source": [
        "import cv2\n",
        "import numpy as np\n",
        "import matplotlib.pyplot as plt\n",
        "import pandas as pd\n",
        "\n",
        "# 마스크 경로 설정 (수정 필요)\n",
        "ground_truth_mask_path = '/content/yolov5/runs/predict-seg/exp/answer_image.jpg'  # 정답 마스크 경로\n",
        "model1_mask_path = '/content/yolov5/runs/predict-seg/exp/output_image.jpg'         # YOLO 모델 마스크 경로\n",
        "model2_mask_path = '/content/yolov5/runs/predict-seg/exp/enhanced1_output_image.jpg'  # 후처리 모델 마스크 경로\n",
        "\n",
        "# 결과 저장용 리스트 초기화\n",
        "results = []\n",
        "\n",
        "def calculate_metrics(ground_truth, model_mask):\n",
        "    \"\"\"\n",
        "    Precision, FPR, MAE를 계산합니다.\n",
        "    \"\"\"\n",
        "    TP = np.sum(np.logical_and(ground_truth == 1, model_mask == 1))  # True Positives\n",
        "    FP = np.sum(np.logical_and(ground_truth == 0, model_mask == 1))  # False Positives\n",
        "    FN = np.sum(np.logical_and(ground_truth == 1, model_mask == 0))  # False Negatives\n",
        "    TN = np.sum(np.logical_and(ground_truth == 0, model_mask == 0))  # True Negatives\n",
        "\n",
        "    # Precision 계산\n",
        "    precision = TP / (TP + FP) if (TP + FP) > 0 else 0\n",
        "\n",
        "    # FPR 계산\n",
        "    fpr = FP / (FP + TN) if (FP + TN) > 0 else 0\n",
        "\n",
        "    # MAE 계산\n",
        "    mae = np.mean(np.abs(ground_truth - model_mask))\n",
        "\n",
        "    return precision, fpr, mae\n",
        "\n",
        "def compare_masks(ground_truth, model_mask, model_name):\n",
        "    \"\"\"\n",
        "    각 모델의 성능 지표를 계산하고 결과 리스트에 저장합니다.\n",
        "    \"\"\"\n",
        "    precision, fpr, mae = calculate_metrics(ground_truth, model_mask)\n",
        "\n",
        "    results.append({\n",
        "        'Model': model_name,\n",
        "        'Precision': precision,\n",
        "        'FPR': fpr,\n",
        "        'MAE': mae\n",
        "    })\n",
        "\n",
        "    print(f'--- {model_name} ---')\n",
        "    print(f'Precision: {precision:.4f}')\n",
        "    print(f'FPR: {fpr:.4f}')\n",
        "    print(f'MAE: {mae:.4f}\\n')\n",
        "\n",
        "def visualize_comparison(ground_truth, model1_mask, model2_mask):\n",
        "    \"\"\"\n",
        "    정답 마스크와 모델 마스크를 시각화합니다.\n",
        "    \"\"\"\n",
        "    plt.figure(figsize=(12, 4))\n",
        "\n",
        "    plt.subplot(1, 3, 1)\n",
        "    plt.title('Ground Truth Mask')\n",
        "    plt.imshow(ground_truth, cmap='gray')\n",
        "    plt.axis('off')\n",
        "\n",
        "    plt.subplot(1, 3, 2)\n",
        "    plt.title('YOLO Model')\n",
        "    plt.imshow(model1_mask, cmap='gray')\n",
        "    plt.axis('off')\n",
        "\n",
        "    plt.subplot(1, 3, 3)\n",
        "    plt.title('Post-Processed Model')\n",
        "    plt.imshow(model2_mask, cmap='gray')\n",
        "    plt.axis('off')\n",
        "\n",
        "    plt.tight_layout()\n",
        "    plt.show()\n",
        "\n",
        "def main():\n",
        "    # 정답 마스크 로드\n",
        "    ground_truth_mask = cv2.imread(ground_truth_mask_path, cv2.IMREAD_GRAYSCALE)\n",
        "    if ground_truth_mask is None:\n",
        "        print(\"Error: Ground truth mask not found.\")\n",
        "        return\n",
        "    ground_truth_mask = (ground_truth_mask > 128).astype(np.uint8)  # 이진화\n",
        "\n",
        "    # YOLO 모델 마스크 로드\n",
        "    model1_mask = cv2.imread(model1_mask_path, cv2.IMREAD_GRAYSCALE)\n",
        "    if model1_mask is None:\n",
        "        print(\"Error: Model 1 mask not found.\")\n",
        "        return\n",
        "    model1_mask = (model1_mask > 128).astype(np.uint8)  # 이진화\n",
        "\n",
        "    # 후처리 모델 마스크 로드\n",
        "    model2_mask = cv2.imread(model2_mask_path, cv2.IMREAD_GRAYSCALE)\n",
        "    if model2_mask is None:\n",
        "        print(\"Error: Model 2 mask not found.\")\n",
        "        return\n",
        "    model2_mask = (model2_mask > 128).astype(np.uint8)  # 이진화\n",
        "\n",
        "    # 각 모델의 성능 비교\n",
        "    compare_masks(ground_truth_mask, model1_mask, \"YOLO Model\")\n",
        "    compare_masks(ground_truth_mask, model2_mask, \"Post-Processed Model\")\n",
        "\n",
        "    # 마스크 시각화\n",
        "    visualize_comparison(ground_truth_mask, model1_mask, model2_mask)\n",
        "\n",
        "    # 결과를 데이터프레임으로 변환 후 CSV 파일로 저장\n",
        "    results_df = pd.DataFrame(results)\n",
        "    results_df.to_csv('mask_comparison_results.csv', index=False)\n",
        "    print(\"Results saved to 'mask_comparison_results.csv'.\")\n",
        "\n",
        "if __name__ == \"__main__\":\n",
        "    main()\n"
      ]
    },
    {
      "cell_type": "code",
      "execution_count": 14,
      "metadata": {
        "colab": {
          "base_uri": "https://localhost:8080/",
          "height": 297
        },
        "id": "jFKvQFIokayE",
        "outputId": "5d6c1b83-58f1-4c6c-ca1d-7786caf41b36"
      },
      "outputs": [
        {
          "output_type": "error",
          "ename": "TypeError",
          "evalue": "'>' not supported between instances of 'NoneType' and 'int'",
          "traceback": [
            "\u001b[0;31m---------------------------------------------------------------------------\u001b[0m",
            "\u001b[0;31mTypeError\u001b[0m                                 Traceback (most recent call last)",
            "\u001b[0;32m<ipython-input-14-163793ed1820>\u001b[0m in \u001b[0;36m<cell line: 88>\u001b[0;34m()\u001b[0m\n\u001b[1;32m     87\u001b[0m \u001b[0;34m\u001b[0m\u001b[0m\n\u001b[1;32m     88\u001b[0m \u001b[0;32mif\u001b[0m \u001b[0m__name__\u001b[0m \u001b[0;34m==\u001b[0m \u001b[0;34m\"__main__\"\u001b[0m\u001b[0;34m:\u001b[0m\u001b[0;34m\u001b[0m\u001b[0;34m\u001b[0m\u001b[0m\n\u001b[0;32m---> 89\u001b[0;31m     \u001b[0mmain\u001b[0m\u001b[0;34m(\u001b[0m\u001b[0;34m)\u001b[0m\u001b[0;34m\u001b[0m\u001b[0;34m\u001b[0m\u001b[0m\n\u001b[0m",
            "\u001b[0;32m<ipython-input-14-163793ed1820>\u001b[0m in \u001b[0;36mmain\u001b[0;34m()\u001b[0m\n\u001b[1;32m     68\u001b[0m \u001b[0;34m\u001b[0m\u001b[0m\n\u001b[1;32m     69\u001b[0m     \u001b[0mmodel2_mask\u001b[0m \u001b[0;34m=\u001b[0m \u001b[0mcv2\u001b[0m\u001b[0;34m.\u001b[0m\u001b[0mimread\u001b[0m\u001b[0;34m(\u001b[0m\u001b[0mmodel2_mask_path\u001b[0m\u001b[0;34m,\u001b[0m \u001b[0mcv2\u001b[0m\u001b[0;34m.\u001b[0m\u001b[0mIMREAD_GRAYSCALE\u001b[0m\u001b[0;34m)\u001b[0m\u001b[0;34m\u001b[0m\u001b[0;34m\u001b[0m\u001b[0m\n\u001b[0;32m---> 70\u001b[0;31m     \u001b[0mmodel2_mask\u001b[0m \u001b[0;34m=\u001b[0m \u001b[0;34m(\u001b[0m\u001b[0mmodel2_mask\u001b[0m \u001b[0;34m>\u001b[0m \u001b[0;36m128\u001b[0m\u001b[0;34m)\u001b[0m\u001b[0;34m.\u001b[0m\u001b[0mastype\u001b[0m\u001b[0;34m(\u001b[0m\u001b[0mnp\u001b[0m\u001b[0;34m.\u001b[0m\u001b[0muint8\u001b[0m\u001b[0;34m)\u001b[0m  \u001b[0;31m# 이진화\u001b[0m\u001b[0;34m\u001b[0m\u001b[0;34m\u001b[0m\u001b[0m\n\u001b[0m\u001b[1;32m     71\u001b[0m \u001b[0;34m\u001b[0m\u001b[0m\n\u001b[1;32m     72\u001b[0m     \u001b[0;32mif\u001b[0m \u001b[0mground_truth_mask\u001b[0m \u001b[0;32mis\u001b[0m \u001b[0;32mNone\u001b[0m \u001b[0;32mor\u001b[0m \u001b[0mmodel1_mask\u001b[0m \u001b[0;32mis\u001b[0m \u001b[0;32mNone\u001b[0m \u001b[0;32mor\u001b[0m \u001b[0mmodel2_mask\u001b[0m \u001b[0;32mis\u001b[0m \u001b[0;32mNone\u001b[0m\u001b[0;34m:\u001b[0m\u001b[0;34m\u001b[0m\u001b[0;34m\u001b[0m\u001b[0m\n",
            "\u001b[0;31mTypeError\u001b[0m: '>' not supported between instances of 'NoneType' and 'int'"
          ]
        }
      ],
      "source": [
        "--- YOLO Model ---\n",
        "Precision: 0.4449\n",
        "FPR: 0.0032\n",
        "MAE: 0.8096\n",
        "\n",
        "--- Post-Processed Model ---\n",
        "Precision: 0.6191\n",
        "FPR: 0.0010\n",
        "MAE: 0.2441\n",
        "\n",
        "--- YOLO Model ---\n",
        "Precision: 0.9268\n",
        "FPR: 0.0002\n",
        "MAE: 0.0475\n",
        "\n",
        "--- Post-Processed Model ---\n",
        "Precision: 0.9198\n",
        "FPR: 0.0001\n",
        "MAE: 0.0323"
      ]
    }
  ],
  "metadata": {
    "accelerator": "GPU",
    "colab": {
      "gpuType": "T4",
      "provenance": []
    },
    "kernelspec": {
      "display_name": "Python 3",
      "name": "python3"
    },
    "language_info": {
      "name": "python"
    }
  },
  "nbformat": 4,
  "nbformat_minor": 0
}